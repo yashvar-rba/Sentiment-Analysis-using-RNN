{
  "nbformat": 4,
  "nbformat_minor": 0,
  "metadata": {
    "colab": {
      "provenance": []
    },
    "kernelspec": {
      "name": "python3",
      "display_name": "Python 3"
    },
    "language_info": {
      "name": "python"
    }
  },
  "cells": [
    {
      "cell_type": "code",
      "source": [
        "# Importing the necessary libraries\n",
        "import pandas as pd\n",
        "import numpy as np\n",
        "from sklearn.model_selection import train_test_split\n",
        "from tensorflow.keras.preprocessing.text import Tokenizer\n",
        "from tensorflow.keras.utils import pad_sequences\n",
        "from tensorflow.keras import Sequential\n",
        "from tensorflow.keras.utils import to_categorical\n",
        "from tensorflow.keras.layers import Dense,SimpleRNN,Embedding,Flatten\n",
        "\n",
        "# Load the dataset\n",
        "file_path = '/content/IMDB Dataset.csv'\n",
        "df = pd.read_csv(file_path)\n",
        "\n",
        "# Exploring the dataset\n",
        "print(df.head())\n",
        "\n",
        "# Check for missing values\n",
        "df.isnull().sum()\n",
        "\n",
        "# Data preprocessing\n",
        "import re\n",
        "def clean_text(text):\n",
        "    text = re.sub(r'[^\\w\\s]', '', text)  # Remove punctuation\n",
        "    text = text.lower()  # Convert to lowercase\n",
        "    return text\n",
        "\n",
        "df['cleaned_review'] = df['review'].apply(clean_text)\n",
        "\n",
        "# Tokenization and Padding\n",
        "tokenizer = Tokenizer(num_words=10000)  # Use top 10,000 words\n",
        "tokenizer.fit_on_texts(df['cleaned_review'])\n",
        "sequences = tokenizer.texts_to_sequences(df['cleaned_review'])\n",
        "\n",
        "# Pad sequences to the same length\n",
        "max_len = 100  # Limiting to 100 words per review\n",
        "X = pad_sequences(sequences, maxlen=max_len)\n",
        "\n",
        "# Convert the sentiment to numerical labels (0 = negative, 1 = positive)\n",
        "df['sentiment'] = df['sentiment'].apply(lambda x: 1 if x == 'positive' else 0)\n",
        "y = to_categorical(df['sentiment'], num_classes=2)\n",
        "\n",
        "# Split the dataset into training and testing sets\n",
        "X_train, X_test, y_train, y_test = train_test_split(X, y, test_size=0.2, random_state=42)\n",
        "\n",
        "# Build the RNN Model\n",
        "model = Sequential()\n",
        "model.add(Embedding(input_dim=10000, output_dim=128, input_length=max_len))  # Embedding layer\n",
        "model.add(LSTM(128, return_sequences=False))  # LSTM layer (better than SimpleRNN for text data)\n",
        "model.add(Dense(2, activation='softmax'))  # Output layer (binary classification)\n",
        "\n",
        "# Compile the model\n",
        "model.compile(loss='categorical_crossentropy', optimizer='adam', metrics=['accuracy'])\n",
        "\n",
        "# Train the model\n",
        "history = model.fit(X_train, y_train, batch_size=32, epochs=5, validation_data=(X_test, y_test))\n",
        "\n",
        "# Evaluate the model on the test data\n",
        "loss, accuracy = model.evaluate(X_test, y_test)\n",
        "print(f\"Test Accuracy: {accuracy:.2f}\")\n",
        "\n",
        "# Test on some new reviews\n",
        "sample_review = [\"The movie was fantastic! I really loved it.\"]\n",
        "sample_sequence = tokenizer.texts_to_sequences(sample_review)\n",
        "sample_padded = pad_sequences(sample_sequence, maxlen=max_len)\n",
        "prediction = model.predict(sample_padded)\n",
        "print(\"Sentiment:\", \"Positive\" if np.argmax(prediction) == 1 else \"Negative\")\n"
      ],
      "metadata": {
        "colab": {
          "base_uri": "https://localhost:8080/"
        },
        "id": "0P4eis4408oD",
        "outputId": "35fac922-fcef-46ff-a230-3acb62132b9c"
      },
      "execution_count": 11,
      "outputs": [
        {
          "output_type": "stream",
          "name": "stdout",
          "text": [
            "                                              review sentiment\n",
            "0  One of the other reviewers has mentioned that ...  positive\n",
            "1  A wonderful little production. <br /><br />The...  positive\n",
            "2  I thought this was a wonderful way to spend ti...  positive\n",
            "3  Basically there's a family where a little boy ...  negative\n",
            "4  Petter Mattei's \"Love in the Time of Money\" is...  positive\n",
            "Epoch 1/5\n"
          ]
        },
        {
          "output_type": "stream",
          "name": "stderr",
          "text": [
            "/usr/local/lib/python3.10/dist-packages/keras/src/layers/core/embedding.py:90: UserWarning: Argument `input_length` is deprecated. Just remove it.\n",
            "  warnings.warn(\n"
          ]
        },
        {
          "output_type": "stream",
          "name": "stdout",
          "text": [
            "\u001b[1m1250/1250\u001b[0m \u001b[32m━━━━━━━━━━━━━━━━━━━━\u001b[0m\u001b[37m\u001b[0m \u001b[1m229s\u001b[0m 180ms/step - accuracy: 0.7684 - loss: 0.4644 - val_accuracy: 0.8604 - val_loss: 0.3239\n",
            "Epoch 2/5\n",
            "\u001b[1m1250/1250\u001b[0m \u001b[32m━━━━━━━━━━━━━━━━━━━━\u001b[0m\u001b[37m\u001b[0m \u001b[1m267s\u001b[0m 184ms/step - accuracy: 0.9011 - loss: 0.2502 - val_accuracy: 0.8692 - val_loss: 0.3061\n",
            "Epoch 3/5\n",
            "\u001b[1m1250/1250\u001b[0m \u001b[32m━━━━━━━━━━━━━━━━━━━━\u001b[0m\u001b[37m\u001b[0m \u001b[1m226s\u001b[0m 181ms/step - accuracy: 0.9357 - loss: 0.1711 - val_accuracy: 0.8522 - val_loss: 0.4217\n",
            "Epoch 4/5\n",
            "\u001b[1m1250/1250\u001b[0m \u001b[32m━━━━━━━━━━━━━━━━━━━━\u001b[0m\u001b[37m\u001b[0m \u001b[1m259s\u001b[0m 179ms/step - accuracy: 0.9548 - loss: 0.1276 - val_accuracy: 0.8510 - val_loss: 0.3931\n",
            "Epoch 5/5\n",
            "\u001b[1m1250/1250\u001b[0m \u001b[32m━━━━━━━━━━━━━━━━━━━━\u001b[0m\u001b[37m\u001b[0m \u001b[1m250s\u001b[0m 169ms/step - accuracy: 0.9693 - loss: 0.0885 - val_accuracy: 0.8599 - val_loss: 0.4740\n",
            "\u001b[1m313/313\u001b[0m \u001b[32m━━━━━━━━━━━━━━━━━━━━\u001b[0m\u001b[37m\u001b[0m \u001b[1m17s\u001b[0m 54ms/step - accuracy: 0.8638 - loss: 0.4594\n",
            "Test Accuracy: 0.86\n",
            "\u001b[1m1/1\u001b[0m \u001b[32m━━━━━━━━━━━━━━━━━━━━\u001b[0m\u001b[37m\u001b[0m \u001b[1m0s\u001b[0m 182ms/step\n",
            "Sentiment: Positive\n"
          ]
        }
      ]
    },
    {
      "cell_type": "code",
      "source": [
        "import matplotlib.pyplot as plt\n",
        "plt.plot(history.history['accuracy'])\n",
        "plt.plot(history.history['val_accuracy'])\n",
        "plt.show()"
      ],
      "metadata": {
        "colab": {
          "base_uri": "https://localhost:8080/",
          "height": 430
        },
        "id": "uQllqZlwBc1u",
        "outputId": "5329234b-9e1f-4cd9-e839-4f3dd4742fd3"
      },
      "execution_count": 14,
      "outputs": [
        {
          "output_type": "display_data",
          "data": {
            "text/plain": [
              "<Figure size 640x480 with 1 Axes>"
            ],
            "image/png": "[encoded data removed]"
          },
          "metadata": {}
        }
      ]
    },
    {
      "cell_type": "code",
      "source": [
        "sample_review = [\"The script lacked plot development and cinematography was also bad.\"]\n",
        "sample_sequence = tokenizer.texts_to_sequences(sample_review)\n",
        "sample_padded = pad_sequences(sample_sequence, maxlen=max_len)\n",
        "prediction = model.predict(sample_padded)\n",
        "print(\"Sentiment:\", \"Positive\" if np.argmax(prediction) == 1 else \"Negative\")"
      ],
      "metadata": {
        "colab": {
          "base_uri": "https://localhost:8080/"
        },
        "id": "r_j0BNi96zsB",
        "outputId": "a9ba015b-af9f-450b-f5ec-26a4f532f5d2"
      },
      "execution_count": 12,
      "outputs": [
        {
          "output_type": "stream",
          "name": "stdout",
          "text": [
            "\u001b[1m1/1\u001b[0m \u001b[32m━━━━━━━━━━━━━━━━━━━━\u001b[0m\u001b[37m\u001b[0m \u001b[1m0s\u001b[0m 50ms/step\n",
            "Sentiment: Negative\n"
          ]
        }
      ]
    },
    {
      "cell_type": "code",
      "source": [
        "sample_review = [\"Above Average Movie overall, but got boring in between and action sequences can be better.\"]\n",
        "sample_sequence = tokenizer.texts_to_sequences(sample_review)\n",
        "sample_padded = pad_sequences(sample_sequence, maxlen=max_len)\n",
        "prediction = model.predict(sample_padded)\n",
        "print(\"Sentiment:\", \"Positive\" if np.argmax(prediction) == 1 else \"Negative\")"
      ],
      "metadata": {
        "colab": {
          "base_uri": "https://localhost:8080/"
        },
        "id": "_WtWDvU37I79",
        "outputId": "2c7e69b9-ca39-4470-8374-669835c5686f"
      },
      "execution_count": 13,
      "outputs": [
        {
          "output_type": "stream",
          "name": "stdout",
          "text": [
            "\u001b[1m1/1\u001b[0m \u001b[32m━━━━━━━━━━━━━━━━━━━━\u001b[0m\u001b[37m\u001b[0m \u001b[1m0s\u001b[0m 31ms/step\n",
            "Sentiment: Negative\n"
          ]
        }
      ]
    },
    {
      "cell_type": "code",
      "source": [
        "sample_review = [\"Plot was great, it maintained the suspence till the end, finally a great movie!!!\"]\n",
        "sample_sequence = tokenizer.texts_to_sequences(sample_review)\n",
        "sample_padded = pad_sequences(sample_sequence, maxlen=max_len)\n",
        "prediction = model.predict(sample_padded)\n",
        "print(\"Sentiment:\", \"Positive\" if np.argmax(prediction) == 1 else \"Negative\")"
      ],
      "metadata": {
        "colab": {
          "base_uri": "https://localhost:8080/"
        },
        "id": "Zdpjdod3BivU",
        "outputId": "b1055d03-6be8-4ffe-b7e8-cabcf128d6b3"
      },
      "execution_count": 15,
      "outputs": [
        {
          "output_type": "stream",
          "name": "stdout",
          "text": [
            "\u001b[1m1/1\u001b[0m \u001b[32m━━━━━━━━━━━━━━━━━━━━\u001b[0m\u001b[37m\u001b[0m \u001b[1m0s\u001b[0m 33ms/step\n",
            "Sentiment: Positive\n"
          ]
        }
      ]
    }
  ]
}